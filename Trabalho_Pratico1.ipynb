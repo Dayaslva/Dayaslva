{
  "nbformat": 4,
  "nbformat_minor": 0,
  "metadata": {
    "colab": {
      "provenance": [],
      "authorship_tag": "ABX9TyMe+icem+ASEqwoQbQBzQCi",
      "include_colab_link": true
    },
    "kernelspec": {
      "name": "python3",
      "display_name": "Python 3"
    },
    "language_info": {
      "name": "python"
    }
  },
  "cells": [
    {
      "cell_type": "markdown",
      "metadata": {
        "id": "view-in-github",
        "colab_type": "text"
      },
      "source": [
        "<a href=\"https://colab.research.google.com/github/Dayaslva/Dayaslva/blob/main/Trabalho_Pratico1.ipynb\" target=\"_parent\"><img src=\"https://colab.research.google.com/assets/colab-badge.svg\" alt=\"Open In Colab\"/></a>"
      ]
    },
    {
      "cell_type": "markdown",
      "source": [
        "**TRABALHO**\n",
        "\n",
        "\n",
        "---\n",
        "1) Enunciado: Imagina-se que você é um dos programadores responsáveis pela construção de app de vendas para uma determinada empresa X que vende em atacado. Uma das estratégias de vendas dessa empresa X é dar desconto maiores por unidade as informações abaixo:\n",
        "\n",
        "*· Se quantidade for menor que 200 o desconto será de 0%;*\n",
        "\n",
        "*· Se quantidade for igual ou maior que 200 e menor que 1000 o desconto será de 5%;*\n",
        "\n",
        "*· Se quantidade for igual ou maior que 1000 e menor que 2000 o desconto será de 10%;*\n",
        "\n",
        "*· Se quantidade for igual ou maior que 2000 o desconto será de 15%;*\n",
        "\n",
        "**Elabore um programa em Python que:**\n",
        "\n",
        "*A. Realizar o print uma mensagem de boas-vindas que apareça o seu nome;*\n",
        "\n",
        "*B. Deve-se entrar com o valor unitário e quantidade do produto [EXIGÊNCIA DE CÓDIGO 1 de 4];*\n",
        "\n",
        "*C. Deve-se retornar o valor total sem desconto e o valor total com desconto [EXIGÊNCIA DE CÓDIGO 2 de 4];*\n",
        "\n",
        "*D. Deve-se utilizar as estruturas if, elif e else (todas elas) [EXIGÊNCIA DE CÓDIGO 3 de 4];*\n",
        "\n",
        "*E. Deve-se fazer comentários no código [EXIGÊNCIA DE CÓDIGO 4 de 4];*\n",
        "\n",
        "*F. Deve-se colocar na apresentação de saída de console um pedido recebendo desconto [EXIGÊNCIA DE SAÍDA DE CONSOLE 1 de 1];*\n"
      ],
      "metadata": {
        "id": "emgCDdyWLAVe"
      }
    },
    {
      "cell_type": "code",
      "execution_count": 41,
      "metadata": {
        "colab": {
          "base_uri": "https://localhost:8080/"
        },
        "id": "-uZXR8Z1K_uI",
        "outputId": "f513efe6-f15c-4916-bc78-8d77fdf39e29"
      },
      "outputs": [
        {
          "output_type": "stream",
          "name": "stdout",
          "text": [
            "-=-=-=-=-=-=-=-=-=-=-=-=-=-=-=-=-=-=-=-=-=-=-=-=\n",
            "Bem-vindo(a) a Loja da Dayane Aparecida da Silva\n",
            "-=-=-=-=-=-=-=-=-=-=-=-=-=-=-=-=-=-=-=-=-=-=-=-=\n",
            "\n",
            "\n",
            "Digite o valor do produto: 10\n",
            "Digite a quantidade do produto: 200\n",
            "O valor COM desconto: R$1900.0\n",
            "Valor SEM desconto: R$2000.0\n"
          ]
        }
      ],
      "source": [
        "print('-='*24)\n",
        "print('Bem-vindo(a) a Loja da Dayane Aparecida da Silva')\n",
        "print('-='*24)\n",
        "print('\\n')\n",
        "\n",
        "#valores que será solicitado ao usuário\n",
        "v= float(input('Digite o valor do produto: '))\n",
        "q= float(input('Digite a quantidade do produto: '))\n",
        "total= v*q\n",
        "\n",
        "#usando as estruturas if, elif e else\n",
        "if q < 200:\n",
        "    print(f'Valor Sem desconto: R${total}')\n",
        "elif q >= 200 and q <= 1000:\n",
        "    des= total - (total*5/100)\n",
        "    print(f'O valor COM desconto: R${des}')\n",
        "    print(f'Valor SEM desconto: R${total}')\n",
        "elif q >= 1000 and q <= 2000:\n",
        "    des = total - (total*10/100)\n",
        "    print(f'O valor COM desconto: R${des}')\n",
        "    print(f'Valor SEM desconto: R${total}')\n",
        "else:\n",
        "    des = total - (total * 15/100)\n",
        "    print(f'O valor COM desconto: R${des}')\n",
        "    print(f'Valor SEM desconto: R${total}')\n"
      ]
    },
    {
      "cell_type": "markdown",
      "source": [
        "2)Enunciado: Você e sua equipe de programadores foram contratados para desenvolver um app de vendas para uma sorveteria. Você ficou com a parte de desenvolver a interface do cliente para retirada do produto.\n",
        "\n",
        "**A Sorveteria possui seguinte relação:**\n",
        "\n",
        "*· 1 bola de sorvete no sabor tradicional (tr) custa 6 reais, no sabor premium (pr) 7 reais e no especial (es) 8 reais;*\n",
        "\n",
        "*· 2 bolas de sorvete no sabor tradicional (tr) custam 11 reais, no sabor premium (pr) 13 reais e no especial (es) 15 reais;*\n",
        "\n",
        "*· 3 bolas de sorvete no sabor tradicional (tr) custam 15 reais, no sabor premium (pr) 18 reais e no especial (es) 21 reais;*\n",
        "\n",
        "**Elabore um programa em Python que:**\n",
        "\n",
        "*A. Realizar o print uma mensagem de boas-vindas que apareça o seu nome*;\n",
        "\n",
        "*B. Deve-se entrar com o sabor (tr/pr/es) e o número de bolas de sorvete desejado (1/2/3) [EXIGÊNCIA DE CÓDIGO 1 de 6];*\n",
        "\n",
        "*C. Deve-se printar a mensagem de “Quantidade de Bolas de Sorvete Inválida\". Se o usuário entrar com a quantidade de bolas de sorvete diferente de 1,2 e 3 repetir a partir do item A [EXIGÊNCIA DE CÓDIGO 2 de 6];*\n",
        "\n",
        "*D. Deve-se printar a mensagem de “Sabor de Sorvete Inválido\" se o usuário entrar com um sabor diferente de tr (tradicional), pr (premium) e es (especial). Printar: e repetir a partir do item A; [EXIGÊNCIA DE CÓDIGO 3 de 6];*\n",
        "\n",
        "*E. Deve-se perguntar se o cliente quer pedir mais alguma coisa. Se sim repetir a partir do item A, senão encerrar o programa printando o valor total [EXIGÊNCIA DE CÓDIGO 4 de 6];*\n",
        "\n",
        "*F. Deve-se utilizar as estruturas de while, break, continue (todas elas) [EXIGÊNCIA DE CÓDIGO 5 de 6];*\n",
        "\n",
        "*G. Deve-se fazer comentários no código [EXIGÊNCIA DE CÓDIGO 6 de 6];*\n",
        "\n",
        "*H. Deve-se colocar na apresentação de saída de console um pedido no qual o usuário errou ao digitar o sabor do sorvete [EXIGÊNCIA DE SAÍDA DE CONSOLE 1 de 3];*\n",
        "\n",
        "*I. Deve-se colocar na apresentação de saída de console um pedido no qual o usuário errou ao digitar o número de bolas de sorvete [EXIGÊNCIA DE SAÍDA DE CONSOLE 2 de 3];*\n",
        "\n",
        "*J. Deve-se colocar na apresentação de saída de console um pedido com duas opções sabores diferentes com quantidade de bolas diferentes [EXIGÊNCIA DE SAÍDA DE CONSOLE 3 de 3];*"
      ],
      "metadata": {
        "id": "xQo0PY59Lu-l"
      }
    },
    {
      "cell_type": "markdown",
      "source": [],
      "metadata": {
        "id": "1Ru6X2l4L9_N"
      }
    },
    {
      "cell_type": "code",
      "source": [
        "from ast import Continue\n",
        "#Mensagem de boas-vindas\n",
        "print('Bem-vindo(a) a Sorveteria da Dayane Aparecida da Silva')\n",
        "print('-='*15, 'Cardápio', '-='*15)\n",
        "print('|','N°','|', '    Tradicional (tr) '  ,'|','    Premium (pr)   ','|','  Especial (es)','|')\n",
        "print('|','1 ' ,'|', '     R$ 6,00         ' , '|','    R$ 7,00        ','|','     R$ 8,00   ','|')\n",
        "print('|','2 ' ,'|', '     R$ 10,00        ' , '|','    R$ 12,00       ','|','     R$ 14,00  ','|')\n",
        "print('|','3 ' ,'|', '     R$ 14,00        ' , '|','    R$ 17,00       ','|','     R$ 20,00  ','|')\n",
        "print('-='*35)\n",
        "print('\\n')\n",
        "\n",
        "total = 0\n",
        "\n",
        "while True:\n",
        "  sabor = input('Digite o sabor de sorvete que deseja (tr/pr/es): ')\n",
        "\n",
        "  if sabor not in ['tr','pr','es']:\n",
        "    print('Sabor de Sorvete Inválido. Tente novamente!')\n",
        "    print('\\n')\n",
        "    continue\n",
        "\n",
        "  try:\n",
        "    quantidade = int(input('Digite a quantidade de bolas de sorvete que deseja (1/2/3):  '))\n",
        "    if quantidade not in [1,2,3]:\n",
        "      print('Quantidade de Bolas de Sorvete Inválida. Tente novamente!')\n",
        "      continue\n",
        "  except ValueError:\n",
        "    print('Quantidade de Bolas de Sorvete Inválida. Tente novamente!')\n",
        "    print('\\n')\n",
        "    continue\n",
        "\n",
        "\n",
        "#condiçoes IF ELIF ELSE\n",
        "  if quantidade == 1:\n",
        "    if sabor == 'tr':\n",
        "      nome_sabor = 'TRADICIONAL'\n",
        "      preco = 6\n",
        "    elif sabor == 'pr':\n",
        "      nome_sabor =  'PREMIUM'\n",
        "      preco = 7\n",
        "    else:\n",
        "      nome_sabor = 'ESPECIAL'\n",
        "      preco = 8\n",
        "  elif quantidade == 2:\n",
        "      if sabor == 'tr':\n",
        "        nome_sabor = 'TRADICIONAL'\n",
        "        preco = 10\n",
        "      elif sabor == 'pr':\n",
        "        nome_sabor =  'PREMIUM'\n",
        "        preco = 12\n",
        "      else:\n",
        "        nome_sabor = 'ESPECIAL'\n",
        "        preco = 14\n",
        "  else:\n",
        "    if sabor == 'tr':\n",
        "      nome_sabor = 'TRADICIONAL'\n",
        "      preco = 14\n",
        "    elif sabor == 'pr':\n",
        "      nome_sabor =  'PREMIUM'\n",
        "      preco = 17\n",
        "    else:\n",
        "      nome_sabor = 'ESPECIAL'\n",
        "      preco = 20\n",
        "\n",
        "  total += preco\n",
        "\n",
        "  print('Você pediu {} bola de sorvete de {}: R$ {:.2f}'.format(quantidade, nome_sabor, preco))\n",
        "\n",
        "  adicionar = input('Deseja pedir mais alguma coisa (s/n)? ')\n",
        "  print('\\n')\n",
        "\n",
        "  if adicionar.lower() != 's':\n",
        "    print('O total do seu pedido foi de {:.2f}'.format(total))\n",
        "    break\n",
        "\n",
        "print('\\n')\n",
        "print('Obrigada pela preferência e volte sempre!')"
      ],
      "metadata": {
        "colab": {
          "base_uri": "https://localhost:8080/"
        },
        "id": "WNuLcQXHMIz8",
        "outputId": "e9569ef7-248d-4edf-9bbf-c8ceff9640cc"
      },
      "execution_count": 39,
      "outputs": [
        {
          "output_type": "stream",
          "name": "stdout",
          "text": [
            "Bem-vindo(a) a Sorveteria da Dayane Aparecida da Silva\n",
            "-=-=-=-=-=-=-=-=-=-=-=-=-=-=-= Cardápio -=-=-=-=-=-=-=-=-=-=-=-=-=-=-=\n",
            "| N° |     Tradicional (tr)  |     Premium (pr)    |   Especial (es) |\n",
            "| 1  |      R$ 6,00          |     R$ 7,00         |      R$ 8,00    |\n",
            "| 2  |      R$ 10,00         |     R$ 12,00        |      R$ 14,00   |\n",
            "| 3  |      R$ 14,00         |     R$ 17,00        |      R$ 20,00   |\n",
            "-=-=-=-=-=-=-=-=-=-=-=-=-=-=-=-=-=-=-=-=-=-=-=-=-=-=-=-=-=-=-=-=-=-=-=\n",
            "\n",
            "\n",
            "Digite o sabor de sorvete que deseja (tr/pr/es): tr\n",
            "Digite a quantidade de bolas de sorvete que deseja (1/2/3):  1\n",
            "Você pediu 1 bola de sorvete de TRADICIONAL: R$ 6.00\n",
            "Deseja pedir mais alguma coisa (s/n)? n\n",
            "\n",
            "\n",
            "O total do seu pedido foi de 6.00\n",
            "\n",
            "\n",
            "Obrigada pela preferência e volte sempre!\n"
          ]
        }
      ]
    },
    {
      "cell_type": "code",
      "source": [],
      "metadata": {
        "id": "ii8QaQfCLrNA"
      },
      "execution_count": null,
      "outputs": []
    }
  ]
}